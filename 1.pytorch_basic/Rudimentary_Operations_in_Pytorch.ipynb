{
 "cells": [
  {
   "cell_type": "markdown",
   "id": "current-genome",
   "metadata": {},
   "source": [
    "## Understanding basic pytorch operations "
   ]
  },
  {
   "cell_type": "markdown",
   "id": "beautiful-potato",
   "metadata": {},
   "source": [
    "In this notebook we are going to understand the **absolute basics** of pytorch. \n",
    "\n",
    "But before doing anything we must know a few things about the building block of pytorch and those are **tensors**. Tensors are nothing but multidimensional scalers, which can be constants as well as variables. They are at the heart of any deep learning frameworks.\n",
    "\n",
    "To list it out properly, we are going to do the following things, to get a clear understanding of pytorch.\n",
    "\n",
    "- [ ] Create a basic tensor.\n",
    "- [ ] Create a tensor from list.\n",
    "- [ ] Create a tensor from numpy array.\n",
    "- [ ] Create a tensor from uniform distribution.\n",
    "- [ ] Create a tensor from random distribution.\n",
    "- [ ] Change the data type of tensors.\n",
    "- [ ] Check tensor size and shape.\n",
    "- [ ] Tensor addition and multiplication.\n",
    "- [ ] Indexing, Slicing, stacking and concatenating tensors.\n",
    "- [ ] Creating cuda tensors.\n",
    "\n",
    "Finally we are going to end with some exercises."
   ]
  },
  {
   "cell_type": "code",
   "execution_count": 1,
   "id": "destroyed-liechtenstein",
   "metadata": {},
   "outputs": [],
   "source": [
    "## First of importing the torch package ##\n",
    "\n",
    "import torch\n",
    "import numpy as np"
   ]
  },
  {
   "cell_type": "markdown",
   "id": "advance-ivory",
   "metadata": {},
   "source": [
    "Now since we are going to display the tensors everytime, it is best to define a utility function which will show a tensor's shape, its datatype and also its values. "
   ]
  },
  {
   "cell_type": "code",
   "execution_count": 2,
   "id": "miniature-paper",
   "metadata": {},
   "outputs": [],
   "source": [
    "## Tensor Output utility function ##\n",
    "\n",
    "def display(a):\n",
    "    \n",
    "    print('The type of the tensor is :' , a.type())\n",
    "    \n",
    "    print('The size of the tensor is :' , a.shape)\n",
    "    \n",
    "    print('The tensor is :\\n{}'.format(a))"
   ]
  },
  {
   "cell_type": "markdown",
   "id": "academic-foundation",
   "metadata": {},
   "source": [
    "Now lets get on doing our basic foundations.\n",
    "\n",
    "First lets create a simple tensor."
   ]
  },
  {
   "cell_type": "code",
   "execution_count": 3,
   "id": "roman-spouse",
   "metadata": {},
   "outputs": [
    {
     "name": "stdout",
     "output_type": "stream",
     "text": [
      "The type of the tensor is : torch.FloatTensor\n",
      "The size of the tensor is : torch.Size([2, 3])\n",
      "The tensor is :\n",
      "tensor([[0.0000e+00, 0.0000e+00, 1.8754e+28],\n",
      "        [2.5382e-09, 1.3297e+22, 1.0140e-11]])\n"
     ]
    }
   ],
   "source": [
    "## Defining a simple tensor ##\n",
    "\n",
    "a = torch.Tensor(2 , 3)\n",
    "\n",
    "display(a)"
   ]
  },
  {
   "cell_type": "markdown",
   "id": "crucial-chain",
   "metadata": {},
   "source": [
    "Its pretty basic.\n",
    "\n",
    "Now lets create another tensor from list."
   ]
  },
  {
   "cell_type": "code",
   "execution_count": 4,
   "id": "maritime-florence",
   "metadata": {},
   "outputs": [
    {
     "name": "stdout",
     "output_type": "stream",
     "text": [
      "The type of the tensor is : torch.FloatTensor\n",
      "The size of the tensor is : torch.Size([2, 3])\n",
      "The tensor is :\n",
      "tensor([[1., 2., 3.],\n",
      "        [4., 5., 6.]])\n"
     ]
    }
   ],
   "source": [
    "## Defining tensor from list ##\n",
    "\n",
    "a = torch.Tensor([[1 , 2 , 3],\n",
    "                  [4 , 5 , 6]])\n",
    "\n",
    "display(a)"
   ]
  },
  {
   "cell_type": "markdown",
   "id": "known-afternoon",
   "metadata": {},
   "source": [
    "With that out of the way, we are gonna make tensor from numpy array."
   ]
  },
  {
   "cell_type": "code",
   "execution_count": 5,
   "id": "casual-remove",
   "metadata": {},
   "outputs": [
    {
     "name": "stdout",
     "output_type": "stream",
     "text": [
      "The type of the tensor is : torch.IntTensor\n",
      "The size of the tensor is : torch.Size([2, 3])\n",
      "The tensor is :\n",
      "tensor([[1, 2, 3],\n",
      "        [4, 5, 6]], dtype=torch.int32)\n"
     ]
    }
   ],
   "source": [
    "## Creating tensor from numpy ##\n",
    "\n",
    "array_a = np.array([[1 , 2 , 3],\n",
    "                    [4 , 5 , 6]])\n",
    "\n",
    "\n",
    "a = torch.from_numpy(array_a)\n",
    "\n",
    "display(a)"
   ]
  },
  {
   "cell_type": "markdown",
   "id": "aging-mouse",
   "metadata": {},
   "source": [
    "What we can do next is make a tensor and have its type changed to float instead."
   ]
  },
  {
   "cell_type": "code",
   "execution_count": 6,
   "id": "raising-proof",
   "metadata": {},
   "outputs": [
    {
     "name": "stdout",
     "output_type": "stream",
     "text": [
      "The type of the tensor is : torch.DoubleTensor\n",
      "The size of the tensor is : torch.Size([2, 3])\n",
      "The tensor is :\n",
      "tensor([[1., 2., 3.],\n",
      "        [4., 5., 6.]], dtype=torch.float64)\n"
     ]
    }
   ],
   "source": [
    "## Creating a tensor of type float ##\n",
    "\n",
    "a = torch.tensor([[1 , 2 , 3],\n",
    "                  [4 , 5 , 6]] , dtype = torch.float64)\n",
    "\n",
    "display(a)"
   ]
  },
  {
   "cell_type": "markdown",
   "id": "velvet-bunny",
   "metadata": {},
   "source": [
    "Well the difference between `torch.Tensor` and `torch.tensor` is that `torch.Tensor` gives the data type float whereas `torch.tensor` automatically gives the dtype."
   ]
  },
  {
   "cell_type": "markdown",
   "id": "functioning-weapon",
   "metadata": {},
   "source": [
    "Now lets create a tensor from *uniform distribution*."
   ]
  },
  {
   "cell_type": "code",
   "execution_count": 7,
   "id": "forward-thriller",
   "metadata": {},
   "outputs": [
    {
     "name": "stdout",
     "output_type": "stream",
     "text": [
      "The type of the tensor is : torch.FloatTensor\n",
      "The size of the tensor is : torch.Size([2, 3])\n",
      "The tensor is :\n",
      "tensor([[0.2408, 0.4635, 0.4043],\n",
      "        [0.7165, 0.4961, 0.4149]])\n"
     ]
    }
   ],
   "source": [
    "## Creating a tensor from uniform distribution ##\n",
    "\n",
    "a = torch.rand(2 , 3)\n",
    "\n",
    "display(a)"
   ]
  },
  {
   "cell_type": "markdown",
   "id": "organizational-links",
   "metadata": {},
   "source": [
    "Moving on we can create a tensor by taking elements from normal distribution."
   ]
  },
  {
   "cell_type": "code",
   "execution_count": 8,
   "id": "controversial-surgeon",
   "metadata": {},
   "outputs": [
    {
     "name": "stdout",
     "output_type": "stream",
     "text": [
      "The type of the tensor is : torch.FloatTensor\n",
      "The size of the tensor is : torch.Size([2, 3])\n",
      "The tensor is :\n",
      "tensor([[ 0.6702, -2.5331, -0.7480],\n",
      "        [-1.3118, -2.2261, -1.3707]])\n"
     ]
    }
   ],
   "source": [
    "## Creating a tensor from normal distribution ##\n",
    "\n",
    "a = torch.randn(2 , 3)\n",
    "\n",
    "display(a)"
   ]
  },
  {
   "cell_type": "markdown",
   "id": "southwest-template",
   "metadata": {},
   "source": [
    "Now we are going to check the datatype of a tensor."
   ]
  },
  {
   "cell_type": "code",
   "execution_count": 9,
   "id": "enclosed-accountability",
   "metadata": {},
   "outputs": [
    {
     "data": {
      "text/plain": [
       "'torch.FloatTensor'"
      ]
     },
     "execution_count": 9,
     "metadata": {},
     "output_type": "execute_result"
    }
   ],
   "source": [
    "## Checking the datatype of tensor ##\n",
    "\n",
    "a.type()"
   ]
  },
  {
   "cell_type": "markdown",
   "id": "alleged-strategy",
   "metadata": {},
   "source": [
    "Also we can check the shape of the tensor by using `tensor.shape`."
   ]
  },
  {
   "cell_type": "code",
   "execution_count": 10,
   "id": "norwegian-lobby",
   "metadata": {},
   "outputs": [
    {
     "data": {
      "text/plain": [
       "torch.Size([2, 3])"
      ]
     },
     "execution_count": 10,
     "metadata": {},
     "output_type": "execute_result"
    }
   ],
   "source": [
    "## Checking the shape of the tensor ##\n",
    "\n",
    "a.shape"
   ]
  },
  {
   "cell_type": "markdown",
   "id": "numerical-lightweight",
   "metadata": {},
   "source": [
    "Now we can also see the process of filling a tensor of certain size with certain values. \n",
    "\n",
    "Lets start by creating a matrix with only ones and only zeros. "
   ]
  },
  {
   "cell_type": "code",
   "execution_count": 11,
   "id": "stuck-baptist",
   "metadata": {},
   "outputs": [
    {
     "name": "stdout",
     "output_type": "stream",
     "text": [
      "The type of the tensor is : torch.FloatTensor\n",
      "The size of the tensor is : torch.Size([2, 3])\n",
      "The tensor is :\n",
      "tensor([[0., 0., 0.],\n",
      "        [0., 0., 0.]])\n"
     ]
    }
   ],
   "source": [
    "## Creating a matrix with zeros ##\n",
    "\n",
    "a = torch.zeros(2 , 3)\n",
    "\n",
    "display(a)"
   ]
  },
  {
   "cell_type": "code",
   "execution_count": 12,
   "id": "excess-receiver",
   "metadata": {},
   "outputs": [
    {
     "name": "stdout",
     "output_type": "stream",
     "text": [
      "The type of the tensor is : torch.FloatTensor\n",
      "The size of the tensor is : torch.Size([2, 3])\n",
      "The tensor is :\n",
      "tensor([[1., 1., 1.],\n",
      "        [1., 1., 1.]])\n"
     ]
    }
   ],
   "source": [
    "## Creating a matrix with ones ##\n",
    "\n",
    "a = torch.ones(2 , 3)\n",
    "\n",
    "display(a)"
   ]
  },
  {
   "cell_type": "markdown",
   "id": "headed-moses",
   "metadata": {},
   "source": [
    "Now lets make an empty tensor and then fill it with value of 5."
   ]
  },
  {
   "cell_type": "code",
   "execution_count": 13,
   "id": "behavioral-trout",
   "metadata": {},
   "outputs": [
    {
     "name": "stdout",
     "output_type": "stream",
     "text": [
      "The type of the tensor is : torch.FloatTensor\n",
      "The size of the tensor is : torch.Size([2, 3])\n",
      "The tensor is :\n",
      "tensor([[4.3677e-05, 1.3384e+22, 8.5081e-07],\n",
      "        [8.3385e-10, 1.0740e-05, 4.1540e+21]])\n",
      "--------------------------------------------------\n",
      "The type of the tensor is : torch.FloatTensor\n",
      "The size of the tensor is : torch.Size([2, 3])\n",
      "The tensor is :\n",
      "tensor([[5., 5., 5.],\n",
      "        [5., 5., 5.]])\n"
     ]
    }
   ],
   "source": [
    "## Creating an empty matrix ##\n",
    "\n",
    "a = torch.empty(2 , 3)\n",
    "\n",
    "display(a)\n",
    "\n",
    "print('--------------------------------------------------')\n",
    "\n",
    "## Creating a tensor with values 5 ##\n",
    "\n",
    "a = a.fill_(5)\n",
    "\n",
    "display(a)"
   ]
  },
  {
   "cell_type": "markdown",
   "id": "finnish-equity",
   "metadata": {},
   "source": [
    "Now lets do simple addition with tensors."
   ]
  },
  {
   "cell_type": "code",
   "execution_count": 14,
   "id": "other-schedule",
   "metadata": {},
   "outputs": [
    {
     "name": "stdout",
     "output_type": "stream",
     "text": [
      "The type of the tensor is : torch.FloatTensor\n",
      "The size of the tensor is : torch.Size([2, 3])\n",
      "The tensor is :\n",
      "tensor([[-0.4287,  0.3462, -0.3587],\n",
      "        [ 0.3119, -0.9700,  0.8658]])\n",
      "--------------------------------------------------\n",
      "The type of the tensor is : torch.FloatTensor\n",
      "The size of the tensor is : torch.Size([2, 3])\n",
      "The tensor is :\n",
      "tensor([[-0.8574,  0.6923, -0.7174],\n",
      "        [ 0.6238, -1.9400,  1.7317]])\n"
     ]
    }
   ],
   "source": [
    "## Simple addition of two tensors ##\n",
    "\n",
    "a = torch.randn(2 , 3)\n",
    "\n",
    "display(a)\n",
    "\n",
    "print('--------------------------------------------------')\n",
    "\n",
    "b = a + a\n",
    "\n",
    "display(b)"
   ]
  },
  {
   "cell_type": "markdown",
   "id": "structural-pressure",
   "metadata": {},
   "source": [
    "Now lets showcase the multiplication of two tensors."
   ]
  },
  {
   "cell_type": "code",
   "execution_count": 15,
   "id": "false-workplace",
   "metadata": {},
   "outputs": [
    {
     "name": "stdout",
     "output_type": "stream",
     "text": [
      "The type of the tensor is : torch.FloatTensor\n",
      "The size of the tensor is : torch.Size([2, 2])\n",
      "The tensor is :\n",
      "tensor([[3., 3.],\n",
      "        [3., 3.]])\n"
     ]
    }
   ],
   "source": [
    "## Multiplication of two tensors ##\n",
    "\n",
    "a = torch.empty(2 , 3)\n",
    "\n",
    "a = a.fill_(1)\n",
    "\n",
    "b = torch.mm(a , a.T)\n",
    "\n",
    "display(b)"
   ]
  },
  {
   "cell_type": "markdown",
   "id": "separated-easter",
   "metadata": {},
   "source": [
    "All done!\n",
    "\n",
    "Lets now do further operations like indexing and slicing."
   ]
  },
  {
   "cell_type": "code",
   "execution_count": 16,
   "id": "inside-alarm",
   "metadata": {},
   "outputs": [
    {
     "name": "stdout",
     "output_type": "stream",
     "text": [
      "The type of the tensor is : torch.LongTensor\n",
      "The size of the tensor is : torch.Size([2, 3])\n",
      "The tensor is :\n",
      "tensor([[1, 2, 3],\n",
      "        [4, 5, 6]])\n",
      "Indexed tensor : tensor(6)\n"
     ]
    }
   ],
   "source": [
    "## Indexing a tensor ##\n",
    "\n",
    "a = torch.tensor([[1 , 2 , 3],\n",
    "                  [4 , 5 , 6]])\n",
    "\n",
    "display(a)\n",
    "\n",
    "print('Indexed tensor :' , a[1 , 2])"
   ]
  },
  {
   "cell_type": "code",
   "execution_count": 17,
   "id": "rapid-gentleman",
   "metadata": {},
   "outputs": [
    {
     "name": "stdout",
     "output_type": "stream",
     "text": [
      "Sliced tensor : tensor([[1, 2]])\n"
     ]
    }
   ],
   "source": [
    "## Slicing a tensor ##\n",
    "\n",
    "print('Sliced tensor :' , a[:1 , 0:2])"
   ]
  },
  {
   "cell_type": "markdown",
   "id": "extreme-clock",
   "metadata": {},
   "source": [
    "Now lets stack up two tensors."
   ]
  },
  {
   "cell_type": "code",
   "execution_count": 18,
   "id": "chemical-emergency",
   "metadata": {},
   "outputs": [
    {
     "name": "stdout",
     "output_type": "stream",
     "text": [
      "The type of the tensor is : torch.LongTensor\n",
      "The size of the tensor is : torch.Size([2, 2, 3])\n",
      "The tensor is :\n",
      "tensor([[[1, 2, 3],\n",
      "         [4, 5, 6]],\n",
      "\n",
      "        [[1, 2, 3],\n",
      "         [4, 5, 6]]])\n"
     ]
    }
   ],
   "source": [
    "## Stacking a tensor ##\n",
    "\n",
    "b = torch.stack([a , a] , dim = 0)\n",
    "\n",
    "display(b)"
   ]
  },
  {
   "cell_type": "markdown",
   "id": "enclosed-mauritius",
   "metadata": {},
   "source": [
    "Now lets concatenate two tensors."
   ]
  },
  {
   "cell_type": "code",
   "execution_count": 19,
   "id": "about-surface",
   "metadata": {},
   "outputs": [
    {
     "name": "stdout",
     "output_type": "stream",
     "text": [
      "The type of the tensor is : torch.LongTensor\n",
      "The size of the tensor is : torch.Size([2, 6])\n",
      "The tensor is :\n",
      "tensor([[1, 2, 3, 1, 2, 3],\n",
      "        [4, 5, 6, 4, 5, 6]])\n"
     ]
    }
   ],
   "source": [
    "## Concatenating a tensor ##\n",
    "\n",
    "b = torch.cat([a , a] , dim = 1)\n",
    "\n",
    "display(b)"
   ]
  },
  {
   "cell_type": "markdown",
   "id": "exact-generator",
   "metadata": {},
   "source": [
    "With that we have come to the beginning of using gpu in creating tensors."
   ]
  },
  {
   "cell_type": "code",
   "execution_count": 20,
   "id": "upper-integration",
   "metadata": {},
   "outputs": [
    {
     "name": "stdout",
     "output_type": "stream",
     "text": [
      "True\n"
     ]
    }
   ],
   "source": [
    "## Checking if GPU is there ##\n",
    "\n",
    "print(torch.cuda.is_available())"
   ]
  },
  {
   "cell_type": "markdown",
   "id": "completed-mention",
   "metadata": {},
   "source": [
    "Now lets create a tensor and shift to the device."
   ]
  },
  {
   "cell_type": "code",
   "execution_count": 21,
   "id": "improving-christopher",
   "metadata": {},
   "outputs": [
    {
     "name": "stdout",
     "output_type": "stream",
     "text": [
      "The type of the tensor is : torch.cuda.FloatTensor\n",
      "The size of the tensor is : torch.Size([2, 3])\n",
      "The tensor is :\n",
      "tensor([[-0.8001, -2.9121,  0.3484],\n",
      "        [-0.0601,  0.3556,  0.9136]], device='cuda:0')\n"
     ]
    }
   ],
   "source": [
    "## Setting the device ##\n",
    "\n",
    "def get_device():\n",
    "    \n",
    "    if torch.cuda.is_available():\n",
    "        \n",
    "        return torch.device('cuda')\n",
    "    \n",
    "    return torch.device('cpu')\n",
    "\n",
    "device = get_device()\n",
    "\n",
    "\n",
    "## Creating a tensor ##\n",
    "\n",
    "a = torch.randn(2 , 3)\n",
    "\n",
    "## Shift the device ##\n",
    "\n",
    "a = a.to(device)\n",
    "\n",
    "display(a)"
   ]
  },
  {
   "cell_type": "markdown",
   "id": "alternative-confidence",
   "metadata": {},
   "source": [
    "With that we come to the end of this notebook.\n",
    "\n",
    "If you want to learn about how to install pytorch please check the `pytorch_basic.ipynb` notebook."
   ]
  }
 ],
 "metadata": {
  "kernelspec": {
   "display_name": "pytorch_env",
   "language": "python",
   "name": "pytorch_env"
  },
  "language_info": {
   "codemirror_mode": {
    "name": "ipython",
    "version": 3
   },
   "file_extension": ".py",
   "mimetype": "text/x-python",
   "name": "python",
   "nbconvert_exporter": "python",
   "pygments_lexer": "ipython3",
   "version": "3.8.5"
  }
 },
 "nbformat": 4,
 "nbformat_minor": 5
}
