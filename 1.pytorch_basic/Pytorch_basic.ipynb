{
 "cells": [
  {
   "cell_type": "markdown",
   "metadata": {},
   "source": [
    "## Basic Pytorch"
   ]
  },
  {
   "cell_type": "markdown",
   "metadata": {},
   "source": [
    "Includes basic workarounds with tensors and getting a way of doing gradients. Just simple stuff!"
   ]
  },
  {
   "cell_type": "markdown",
   "metadata": {},
   "source": [
    "To install pytorch select the specification and copy the command for installing pytorch from this website: https://pytorch.org/ \n",
    "\n",
    "One more thing that I faced is that if you have Tensorflow also, please install torch in other environment of conda, else its going to mess everything up. \n",
    "\n",
    "So, for creating an environment use the command: <code>conda create --name env_name</code>\n",
    "\n",
    "After that activate the environment via <code>conda activate env_name</code>\n",
    "\n",
    "Then install pytorch, and check with <code>import torch</code> if its installed or not.\n",
    "\n",
    "One more issue I faced is that even though it showed in the shell, in Jupyter Notebook, <code>import torch</code> showed an error.\n",
    "\n",
    "So, for that you need to add the kernel to your environment. For that first move to the created environment, then do the two following steps:\n",
    "1. conda install ipykernel\n",
    "2. python -m ipykernel install --user --name env_name --display-name \"env_name\"\n",
    "\n",
    "Thats it! Then you open Jupyter Notebook and you press New and you will see env_name there, select that, then <code>import torch</code> and it would work perfectly! "
   ]
  },
  {
   "cell_type": "code",
   "execution_count": 1,
   "metadata": {},
   "outputs": [],
   "source": [
    "#Lets first import pytorch\n",
    "\n",
    "import torch"
   ]
  },
  {
   "cell_type": "markdown",
   "metadata": {},
   "source": [
    "Okay that how torch is imported!"
   ]
  },
  {
   "cell_type": "markdown",
   "metadata": {},
   "source": [
    "Lets do some basic things like creating a simple tensor."
   ]
  },
  {
   "cell_type": "code",
   "execution_count": 9,
   "metadata": {},
   "outputs": [
    {
     "data": {
      "text/plain": [
       "tensor([1., 2., 3.])"
      ]
     },
     "execution_count": 9,
     "metadata": {},
     "output_type": "execute_result"
    }
   ],
   "source": [
    "t1 = torch.tensor([1. , 2. , 3.])\n",
    "t1"
   ]
  },
  {
   "cell_type": "code",
   "execution_count": 10,
   "metadata": {},
   "outputs": [
    {
     "data": {
      "text/plain": [
       "'torch.FloatTensor'"
      ]
     },
     "execution_count": 10,
     "metadata": {},
     "output_type": "execute_result"
    }
   ],
   "source": [
    "t1.type()"
   ]
  },
  {
   "cell_type": "markdown",
   "metadata": {},
   "source": [
    "Thats easy peesy!"
   ]
  },
  {
   "cell_type": "markdown",
   "metadata": {},
   "source": [
    "I would do many more examples for this simple thing.\n",
    "So lets check how to get gradients.\n",
    "\n",
    "For a variable to be a partial differentiator use <code>requires_grad = True</code> inside the <code>torch.tensor</code>"
   ]
  },
  {
   "cell_type": "code",
   "execution_count": 3,
   "metadata": {},
   "outputs": [],
   "source": [
    "x = torch.tensor(4.) #don't update gradient\n",
    "\n",
    "w = torch.tensor(10. , requires_grad = True)\n",
    "\n",
    "b = torch.tensor(5. , requires_grad = True)"
   ]
  },
  {
   "cell_type": "markdown",
   "metadata": {},
   "source": [
    "Lets define a equation."
   ]
  },
  {
   "cell_type": "code",
   "execution_count": 4,
   "metadata": {},
   "outputs": [
    {
     "data": {
      "text/plain": [
       "tensor(45., grad_fn=<AddBackward0>)"
      ]
     },
     "execution_count": 4,
     "metadata": {},
     "output_type": "execute_result"
    }
   ],
   "source": [
    "y = w * x + b\n",
    "y"
   ]
  },
  {
   "cell_type": "markdown",
   "metadata": {},
   "source": [
    "y is calculated.\n",
    "\n",
    "Lets deduce the gradient updates via <code>y.backward()</code>. The backward() function is named as such because of the backpropagation algorithm."
   ]
  },
  {
   "cell_type": "code",
   "execution_count": 5,
   "metadata": {},
   "outputs": [],
   "source": [
    "y.backward()"
   ]
  },
  {
   "cell_type": "markdown",
   "metadata": {},
   "source": [
    "And the gradients are computed.\n",
    "\n",
    "We can check them out by postfixing <code>.grad</code> with the variable name."
   ]
  },
  {
   "cell_type": "code",
   "execution_count": 6,
   "metadata": {},
   "outputs": [
    {
     "name": "stdout",
     "output_type": "stream",
     "text": [
      "dy/dx: None\n",
      "dy/dw: tensor(4.)\n",
      "dy/db: tensor(1.)\n"
     ]
    }
   ],
   "source": [
    "print('dy/dx:' , x.grad)\n",
    "print('dy/dw:' , w.grad)\n",
    "print('dy/db:' , b.grad)"
   ]
  },
  {
   "cell_type": "markdown",
   "metadata": {},
   "source": [
    "Yes! It shows the partial differentiations correctly.\n",
    "\n",
    "Awesome!\n",
    "\n",
    "The basic is complete!"
   ]
  }
 ],
 "metadata": {
  "kernelspec": {
   "display_name": "pytorch_env",
   "language": "python",
   "name": "pytorch_env"
  },
  "language_info": {
   "codemirror_mode": {
    "name": "ipython",
    "version": 3
   },
   "file_extension": ".py",
   "mimetype": "text/x-python",
   "name": "python",
   "nbconvert_exporter": "python",
   "pygments_lexer": "ipython3",
   "version": "3.8.5"
  }
 },
 "nbformat": 4,
 "nbformat_minor": 4
}
