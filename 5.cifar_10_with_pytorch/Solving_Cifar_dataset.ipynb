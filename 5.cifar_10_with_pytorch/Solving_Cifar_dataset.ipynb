{
 "cells": [
  {
   "cell_type": "markdown",
   "metadata": {},
   "source": [
    "## Solving the CIFAR Dataset"
   ]
  },
  {
   "cell_type": "markdown",
   "metadata": {},
   "source": [
    "So moving on from the basic linear regression problem, in this notebook we are going to improvise on CIFAR-10 Dataset classification problem by utilizing Pytorch."
   ]
  },
  {
   "cell_type": "markdown",
   "metadata": {},
   "source": [
    "Now, we need to understand Pytorch is a tensor framework and can't handle images in their original form and has a separate library called torchvision to handle images."
   ]
  },
  {
   "cell_type": "markdown",
   "metadata": {},
   "source": [
    "Lets import the packages."
   ]
  },
  {
   "cell_type": "code",
   "execution_count": 32,
   "metadata": {},
   "outputs": [],
   "source": [
    "import torch\n",
    "import torchvision\n",
    "import numpy as np\n",
    "import matplotlib.pyplot as plt\n",
    "from torch import nn\n",
    "from torch.utils.data.dataloader import DataLoader\n",
    "from torch.utils.data.sampler import SubsetRandomSampler\n",
    "\n",
    "from torchvision.datasets import CIFAR10\n",
    "import torchvision.transforms as transforms"
   ]
  },
  {
   "cell_type": "markdown",
   "metadata": {},
   "source": [
    "Now, one cool thing about torchvision is that it itself has a horde of datasets, with Cifar-10 being one of them. We are going to load the dataset from there and also transform the images into tensors so that it can be handled by Pytorch."
   ]
  },
  {
   "cell_type": "markdown",
   "metadata": {},
   "source": [
    "One more thing the CIFAR Dataset is RGB in color. For now we are going to utilize only Grayscale images hence we are going to transform them to grayscale."
   ]
  },
  {
   "cell_type": "code",
   "execution_count": 10,
   "metadata": {},
   "outputs": [],
   "source": [
    "image_transform = transforms.Compose([transforms.Grayscale(num_output_channels = 1),\n",
    "                                     transforms.ToTensor()])"
   ]
  },
  {
   "cell_type": "code",
   "execution_count": 11,
   "metadata": {},
   "outputs": [
    {
     "name": "stdout",
     "output_type": "stream",
     "text": [
      "Files already downloaded and verified\n"
     ]
    }
   ],
   "source": [
    "cifa_data = CIFAR10(root = '/data',\n",
    "                    transform = image_transform,\n",
    "                    train = True,\n",
    "                    download = True\n",
    "                   )"
   ]
  },
  {
   "cell_type": "markdown",
   "metadata": {},
   "source": [
    "Okay! So, the dataset is here.\n",
    "\n",
    "Lets check its length and see one of its elements."
   ]
  },
  {
   "cell_type": "code",
   "execution_count": 12,
   "metadata": {},
   "outputs": [
    {
     "data": {
      "text/plain": [
       "50000"
      ]
     },
     "execution_count": 12,
     "metadata": {},
     "output_type": "execute_result"
    }
   ],
   "source": [
    "len(cifa_data)"
   ]
  },
  {
   "cell_type": "code",
   "execution_count": 13,
   "metadata": {},
   "outputs": [
    {
     "name": "stdout",
     "output_type": "stream",
     "text": [
      "torch.Size([1, 32, 32])\n",
      "6\n"
     ]
    }
   ],
   "source": [
    "x, y = cifa_data[0]\n",
    "\n",
    "print(x.shape)\n",
    "print(y)"
   ]
  },
  {
   "cell_type": "markdown",
   "metadata": {},
   "source": [
    "Okay, so the dataset is of 50,000 images of shape 32 * 32. "
   ]
  },
  {
   "cell_type": "markdown",
   "metadata": {},
   "source": [
    "Its always awesome to visualize one of the pictures before moving ahead. \n",
    "\n",
    "For that we are going to utilize the <code>plt.imshow()</code> function."
   ]
  },
  {
   "cell_type": "code",
   "execution_count": 17,
   "metadata": {},
   "outputs": [
    {
     "name": "stdout",
     "output_type": "stream",
     "text": [
      "The Label is : 9\n"
     ]
    },
    {
     "data": {
      "image/png": "[encoded data removed]",
      "text/plain": [
       "<Figure size 432x288 with 1 Axes>"
      ]
     },
     "metadata": {
      "needs_background": "light"
     },
     "output_type": "display_data"
    }
   ],
   "source": [
    "img , label = cifa_data[1]\n",
    "img = img.reshape(32 , 32)\n",
    "plt.imshow(img , cmap  ='gray')\n",
    "print('The Label is :', label)"
   ]
  },
  {
   "cell_type": "markdown",
   "metadata": {},
   "source": [
    "Okay, it seems like a truck.\n",
    "\n",
    "It is quite evident the images are quite small, but its easier for storage and manipulation."
   ]
  },
  {
   "cell_type": "markdown",
   "metadata": {},
   "source": [
    "Now lets create our model.\n",
    "\n",
    "It will be very simple model with linear layer outputting the output of 10units.\n",
    "\n",
    "Lets do that."
   ]
  },
  {
   "cell_type": "code",
   "execution_count": 20,
   "metadata": {},
   "outputs": [],
   "source": [
    "class cifar_model(nn.Module):\n",
    "    def __init__(self):\n",
    "        super().__init__()\n",
    "        self.linear = nn.Linear(1024 , 10)\n",
    "        \n",
    "    def forward(self , x):\n",
    "        x = x.reshape(-1 , 1024)\n",
    "        out = self.linear(x)\n",
    "        return out\n",
    "    \n",
    "cif_model = cifar_model() #instantiating cifar model"
   ]
  },
  {
   "cell_type": "code",
   "execution_count": 39,
   "metadata": {},
   "outputs": [
    {
     "data": {
      "text/plain": [
       "[Parameter containing:\n",
       " tensor([[-0.0057, -0.0047, -0.0063,  ..., -0.0207,  0.0124, -0.0301],\n",
       "         [ 0.0040, -0.0235, -0.0031,  ...,  0.0213, -0.0303, -0.0191],\n",
       "         [ 0.0068,  0.0217, -0.0194,  ..., -0.0085, -0.0061,  0.0147],\n",
       "         ...,\n",
       "         [-0.0019,  0.0029, -0.0167,  ..., -0.0115,  0.0095,  0.0308],\n",
       "         [ 0.0273,  0.0267, -0.0241,  ..., -0.0243,  0.0146,  0.0098],\n",
       "         [-0.0133, -0.0176, -0.0057,  ..., -0.0310, -0.0110, -0.0208]],\n",
       "        requires_grad=True),\n",
       " Parameter containing:\n",
       " tensor([-0.0026, -0.0042, -0.0016, -0.0147, -0.0009, -0.0236, -0.0118, -0.0266,\n",
       "         -0.0279, -0.0114], requires_grad=True)]"
      ]
     },
     "execution_count": 39,
     "metadata": {},
     "output_type": "execute_result"
    }
   ],
   "source": [
    "list(cif_model.parameters())"
   ]
  },
  {
   "cell_type": "markdown",
   "metadata": {},
   "source": [
    "Now with the model set, it is essential to split the dataset into training and validation. For validation we are going to keep 10% of the data."
   ]
  },
  {
   "cell_type": "markdown",
   "metadata": {},
   "source": [
    "Lets create a function to pick out the indexes of validation and training sets."
   ]
  },
  {
   "cell_type": "code",
   "execution_count": 27,
   "metadata": {},
   "outputs": [],
   "source": [
    "def train_val_split(total_len , val_percent):\n",
    "    val_range = int(total_len * val_percent)\n",
    "    shuffled_idx =  np.random.permutation(total_len)\n",
    "    return shuffled_idx[: val_range] , shuffled_idx[val_range: ]"
   ]
  },
  {
   "cell_type": "code",
   "execution_count": 28,
   "metadata": {
    "scrolled": true
   },
   "outputs": [],
   "source": [
    "total_len = len(cifa_data)\n",
    "val_percent = 0.10\n",
    "\n",
    "val_idx , train_idx = train_val_split(total_len , val_percent)"
   ]
  },
  {
   "cell_type": "markdown",
   "metadata": {},
   "source": [
    "Lets check the validation and training length."
   ]
  },
  {
   "cell_type": "code",
   "execution_count": 29,
   "metadata": {},
   "outputs": [
    {
     "name": "stdout",
     "output_type": "stream",
     "text": [
      "5000\n",
      "45000\n"
     ]
    }
   ],
   "source": [
    "print(len(val_idx))\n",
    "print(len(train_idx))"
   ]
  },
  {
   "cell_type": "markdown",
   "metadata": {},
   "source": [
    "Yes! Everything is sorted. Now what we do is we set our dataloader with more random samplings."
   ]
  },
  {
   "cell_type": "code",
   "execution_count": 34,
   "metadata": {},
   "outputs": [],
   "source": [
    "train_sampler = SubsetRandomSampler(train_idx)\n",
    "train_dl = DataLoader(cifa_data , batch_size = 512 , sampler = train_sampler)\n",
    "\n",
    "val_sampler = SubsetRandomSampler(val_idx)\n",
    "val_dl = DataLoader(cifa_data , batch_size = 512 , sampler = val_sampler)"
   ]
  },
  {
   "cell_type": "markdown",
   "metadata": {},
   "source": [
    "Now its time to set our loss function and optimizer."
   ]
  },
  {
   "cell_type": "code",
   "execution_count": 37,
   "metadata": {},
   "outputs": [],
   "source": [
    "loss_func = torch.nn.functional.cross_entropy  ##setting the loss function"
   ]
  },
  {
   "cell_type": "code",
   "execution_count": 40,
   "metadata": {},
   "outputs": [],
   "source": [
    "optim = torch.optim.SGD(cif_model.parameters() , lr = 1e-3)"
   ]
  },
  {
   "cell_type": "markdown",
   "metadata": {},
   "source": [
    "Now we need to set a metric to validate our model. So we are going to define accuracy function here."
   ]
  },
  {
   "cell_type": "code",
   "execution_count": 41,
   "metadata": {},
   "outputs": [],
   "source": [
    "def accuracy(predicted_val , target):\n",
    "    _,pred = torch.max(predicted_val , axis = 1)\n",
    "    return torch.sum(pred == target).item() / len(target)   "
   ]
  },
  {
   "cell_type": "markdown",
   "metadata": {},
   "source": [
    "Now its time to train our model."
   ]
  },
  {
   "cell_type": "code",
   "execution_count": 45,
   "metadata": {},
   "outputs": [],
   "source": [
    "def fit(model , epochs, dl , loss_func , optim , metric = None):\n",
    "    \n",
    "    for epoch in range(epochs):\n",
    "        \n",
    "        for x , y in dl:\n",
    "            \n",
    "            ##generate predictions\n",
    "            pred = model(x)\n",
    "            \n",
    "            ##calculate loss function\n",
    "            loss = loss_func(pred , y)\n",
    "            \n",
    "            ##one step of backpropagation\n",
    "            loss.backward()\n",
    "            \n",
    "            ##one step of optimization\n",
    "            optim.step()\n",
    "            \n",
    "            ##reset the gradients to zero\n",
    "            optim.zero_grad()\n",
    "            \n",
    "        if metric is not None:\n",
    "            acc = accuracy(pred , y)\n",
    "            print('Epochs : {} , Loss : {:.4f} , Accuracy : {:.4f}'.format(epoch + 1 , loss , acc))\n",
    "        else:\n",
    "            print('Epochs : {} , Loss : {:.4f}'.format(epoch + 1 , loss))"
   ]
  },
  {
   "cell_type": "code",
   "execution_count": 47,
   "metadata": {},
   "outputs": [
    {
     "name": "stdout",
     "output_type": "stream",
     "text": [
      "Epochs : 1 , Loss : 2.2170 , Accuracy : 0.2259\n",
      "Epochs : 2 , Loss : 2.2097 , Accuracy : 0.2127\n",
      "Epochs : 3 , Loss : 2.2132 , Accuracy : 0.1886\n",
      "Epochs : 4 , Loss : 2.1890 , Accuracy : 0.1952\n",
      "Epochs : 5 , Loss : 2.1917 , Accuracy : 0.2083\n",
      "Epochs : 6 , Loss : 2.1831 , Accuracy : 0.1996\n",
      "Epochs : 7 , Loss : 2.1930 , Accuracy : 0.2346\n",
      "Epochs : 8 , Loss : 2.1817 , Accuracy : 0.2346\n",
      "Epochs : 9 , Loss : 2.1924 , Accuracy : 0.2018\n",
      "Epochs : 10 , Loss : 2.1737 , Accuracy : 0.2171\n",
      "Epochs : 11 , Loss : 2.1621 , Accuracy : 0.2412\n",
      "Epochs : 12 , Loss : 2.1530 , Accuracy : 0.2303\n",
      "Epochs : 13 , Loss : 2.1682 , Accuracy : 0.2083\n",
      "Epochs : 14 , Loss : 2.1421 , Accuracy : 0.2215\n",
      "Epochs : 15 , Loss : 2.1597 , Accuracy : 0.2149\n",
      "Epochs : 16 , Loss : 2.1646 , Accuracy : 0.2018\n",
      "Epochs : 17 , Loss : 2.1476 , Accuracy : 0.2259\n",
      "Epochs : 18 , Loss : 2.1488 , Accuracy : 0.2281\n",
      "Epochs : 19 , Loss : 2.1491 , Accuracy : 0.2237\n",
      "Epochs : 20 , Loss : 2.1228 , Accuracy : 0.2303\n",
      "Epochs : 21 , Loss : 2.1465 , Accuracy : 0.2215\n",
      "Epochs : 22 , Loss : 2.1070 , Accuracy : 0.2566\n",
      "Epochs : 23 , Loss : 2.1422 , Accuracy : 0.2456\n",
      "Epochs : 24 , Loss : 2.1212 , Accuracy : 0.2654\n",
      "Epochs : 25 , Loss : 2.1467 , Accuracy : 0.2215\n",
      "Epochs : 26 , Loss : 2.1234 , Accuracy : 0.2303\n",
      "Epochs : 27 , Loss : 2.1161 , Accuracy : 0.2237\n",
      "Epochs : 28 , Loss : 2.1214 , Accuracy : 0.2412\n",
      "Epochs : 29 , Loss : 2.1112 , Accuracy : 0.2259\n",
      "Epochs : 30 , Loss : 2.0951 , Accuracy : 0.2368\n",
      "Epochs : 31 , Loss : 2.1220 , Accuracy : 0.2412\n",
      "Epochs : 32 , Loss : 2.1036 , Accuracy : 0.2390\n",
      "Epochs : 33 , Loss : 2.1279 , Accuracy : 0.2325\n",
      "Epochs : 34 , Loss : 2.1114 , Accuracy : 0.2632\n",
      "Epochs : 35 , Loss : 2.0842 , Accuracy : 0.2719\n",
      "Epochs : 36 , Loss : 2.0968 , Accuracy : 0.2478\n",
      "Epochs : 37 , Loss : 2.0902 , Accuracy : 0.2610\n",
      "Epochs : 38 , Loss : 2.0958 , Accuracy : 0.2390\n",
      "Epochs : 39 , Loss : 2.1205 , Accuracy : 0.2544\n",
      "Epochs : 40 , Loss : 2.1351 , Accuracy : 0.2325\n",
      "Epochs : 41 , Loss : 2.1122 , Accuracy : 0.2719\n",
      "Epochs : 42 , Loss : 2.0845 , Accuracy : 0.2785\n",
      "Epochs : 43 , Loss : 2.0950 , Accuracy : 0.2697\n",
      "Epochs : 44 , Loss : 2.0846 , Accuracy : 0.2785\n",
      "Epochs : 45 , Loss : 2.1232 , Accuracy : 0.2303\n",
      "Epochs : 46 , Loss : 2.0829 , Accuracy : 0.2566\n",
      "Epochs : 47 , Loss : 2.0925 , Accuracy : 0.2456\n",
      "Epochs : 48 , Loss : 2.0822 , Accuracy : 0.2675\n",
      "Epochs : 49 , Loss : 2.1302 , Accuracy : 0.2544\n",
      "Epochs : 50 , Loss : 2.0886 , Accuracy : 0.2719\n",
      "Epochs : 51 , Loss : 2.0918 , Accuracy : 0.2588\n",
      "Epochs : 52 , Loss : 2.1072 , Accuracy : 0.2478\n",
      "Epochs : 53 , Loss : 2.0664 , Accuracy : 0.2456\n",
      "Epochs : 54 , Loss : 2.1066 , Accuracy : 0.2566\n",
      "Epochs : 55 , Loss : 2.1164 , Accuracy : 0.2566\n",
      "Epochs : 56 , Loss : 2.0936 , Accuracy : 0.2368\n",
      "Epochs : 57 , Loss : 2.0825 , Accuracy : 0.2566\n",
      "Epochs : 58 , Loss : 2.0672 , Accuracy : 0.2346\n",
      "Epochs : 59 , Loss : 2.0271 , Accuracy : 0.2851\n",
      "Epochs : 60 , Loss : 2.0731 , Accuracy : 0.2566\n",
      "Epochs : 61 , Loss : 2.0694 , Accuracy : 0.2632\n",
      "Epochs : 62 , Loss : 2.0739 , Accuracy : 0.2785\n",
      "Epochs : 63 , Loss : 2.1051 , Accuracy : 0.2763\n",
      "Epochs : 64 , Loss : 2.0665 , Accuracy : 0.2675\n",
      "Epochs : 65 , Loss : 2.0605 , Accuracy : 0.2719\n",
      "Epochs : 66 , Loss : 2.0720 , Accuracy : 0.2654\n",
      "Epochs : 67 , Loss : 2.0931 , Accuracy : 0.2675\n",
      "Epochs : 68 , Loss : 2.0738 , Accuracy : 0.2500\n",
      "Epochs : 69 , Loss : 2.0789 , Accuracy : 0.2829\n",
      "Epochs : 70 , Loss : 2.0804 , Accuracy : 0.2741\n",
      "Epochs : 71 , Loss : 2.1198 , Accuracy : 0.2807\n",
      "Epochs : 72 , Loss : 2.0810 , Accuracy : 0.2588\n",
      "Epochs : 73 , Loss : 2.1028 , Accuracy : 0.2697\n",
      "Epochs : 74 , Loss : 2.0963 , Accuracy : 0.2610\n",
      "Epochs : 75 , Loss : 2.0958 , Accuracy : 0.2763\n",
      "Epochs : 76 , Loss : 2.0658 , Accuracy : 0.2982\n",
      "Epochs : 77 , Loss : 2.0799 , Accuracy : 0.2632\n",
      "Epochs : 78 , Loss : 2.0726 , Accuracy : 0.2785\n",
      "Epochs : 79 , Loss : 2.0616 , Accuracy : 0.2851\n",
      "Epochs : 80 , Loss : 2.0348 , Accuracy : 0.2807\n",
      "Epochs : 81 , Loss : 2.0586 , Accuracy : 0.2632\n",
      "Epochs : 82 , Loss : 2.0816 , Accuracy : 0.2434\n",
      "Epochs : 83 , Loss : 2.0895 , Accuracy : 0.2741\n",
      "Epochs : 84 , Loss : 2.0643 , Accuracy : 0.2610\n",
      "Epochs : 85 , Loss : 2.0955 , Accuracy : 0.2566\n",
      "Epochs : 86 , Loss : 2.0864 , Accuracy : 0.2500\n",
      "Epochs : 87 , Loss : 2.0659 , Accuracy : 0.2632\n",
      "Epochs : 88 , Loss : 2.1142 , Accuracy : 0.2259\n",
      "Epochs : 89 , Loss : 2.0289 , Accuracy : 0.3070\n",
      "Epochs : 90 , Loss : 2.0883 , Accuracy : 0.2544\n",
      "Epochs : 91 , Loss : 2.0754 , Accuracy : 0.2719\n",
      "Epochs : 92 , Loss : 2.1238 , Accuracy : 0.2566\n",
      "Epochs : 93 , Loss : 2.0883 , Accuracy : 0.2566\n",
      "Epochs : 94 , Loss : 2.0829 , Accuracy : 0.2785\n",
      "Epochs : 95 , Loss : 2.0706 , Accuracy : 0.2675\n",
      "Epochs : 96 , Loss : 2.0430 , Accuracy : 0.2917\n",
      "Epochs : 97 , Loss : 2.0750 , Accuracy : 0.2632\n",
      "Epochs : 98 , Loss : 2.0650 , Accuracy : 0.2719\n",
      "Epochs : 99 , Loss : 2.0575 , Accuracy : 0.2500\n",
      "Epochs : 100 , Loss : 2.0321 , Accuracy : 0.2961\n"
     ]
    }
   ],
   "source": [
    "fit(cif_model , 100, train_dl , loss_func , optim , metric = 'accuracy')"
   ]
  },
  {
   "cell_type": "markdown",
   "metadata": {},
   "source": [
    "Boom! I know the accuracy is bad, but for now its okay!\n",
    "\n",
    "We won't be doing the validation and the testing in this notebook, just for simplicity purpose!"
   ]
  }
 ],
 "metadata": {
  "kernelspec": {
   "display_name": "pytorch_env",
   "language": "python",
   "name": "pytorch_env"
  },
  "language_info": {
   "codemirror_mode": {
    "name": "ipython",
    "version": 3
   },
   "file_extension": ".py",
   "mimetype": "text/x-python",
   "name": "python",
   "nbconvert_exporter": "python",
   "pygments_lexer": "ipython3",
   "version": "3.8.5"
  }
 },
 "nbformat": 4,
 "nbformat_minor": 4
}
