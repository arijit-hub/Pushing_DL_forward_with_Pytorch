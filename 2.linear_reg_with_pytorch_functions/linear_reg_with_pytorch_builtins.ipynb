{
 "cells": [
  {
   "cell_type": "markdown",
   "metadata": {},
   "source": [
    "### Linear Regression with Pytorch Built-in Functions"
   ]
  },
  {
   "cell_type": "markdown",
   "metadata": {},
   "source": [
    "So, carrying on from the previous notebook, we are going to implement linear regression by utilizing the built-in functions of Pytorch."
   ]
  },
  {
   "cell_type": "markdown",
   "metadata": {},
   "source": [
    "The dataset we are going to implement on, is heights and weights dataset obtained from the following link: https://www.kaggle.com/tmcketterick/heights-and-weights"
   ]
  },
  {
   "cell_type": "markdown",
   "metadata": {},
   "source": [
    "Now, I have a habit of importing all the necessary packages in the first cell of code, so please don't be frightened of them."
   ]
  },
  {
   "cell_type": "code",
   "execution_count": 68,
   "metadata": {},
   "outputs": [],
   "source": [
    "import torch\n",
    "import numpy as np\n",
    "import pandas as pd\n",
    "\n",
    "from torch import nn\n",
    "from torch.utils.data import DataLoader\n",
    "from torch.utils.data import TensorDataset\n",
    "from torch.nn.functional import mse_loss\n",
    "from torch.optim import SGD"
   ]
  },
  {
   "cell_type": "markdown",
   "metadata": {},
   "source": [
    "Now first step is to load the data. I have the data in a csv file in disc. So, i will be utilizing the pandas package to import it."
   ]
  },
  {
   "cell_type": "code",
   "execution_count": 69,
   "metadata": {},
   "outputs": [
    {
     "data": {
      "text/html": [
       "<div>\n",
       "<style scoped>\n",
       "    .dataframe tbody tr th:only-of-type {\n",
       "        vertical-align: middle;\n",
       "    }\n",
       "\n",
       "    .dataframe tbody tr th {\n",
       "        vertical-align: top;\n",
       "    }\n",
       "\n",
       "    .dataframe thead th {\n",
       "        text-align: right;\n",
       "    }\n",
       "</style>\n",
       "<table border=\"1\" class=\"dataframe\">\n",
       "  <thead>\n",
       "    <tr style=\"text-align: right;\">\n",
       "      <th></th>\n",
       "      <th>Height</th>\n",
       "      <th>Weight</th>\n",
       "    </tr>\n",
       "  </thead>\n",
       "  <tbody>\n",
       "    <tr>\n",
       "      <th>0</th>\n",
       "      <td>1.47</td>\n",
       "      <td>52.21</td>\n",
       "    </tr>\n",
       "    <tr>\n",
       "      <th>1</th>\n",
       "      <td>1.50</td>\n",
       "      <td>53.12</td>\n",
       "    </tr>\n",
       "    <tr>\n",
       "      <th>2</th>\n",
       "      <td>1.52</td>\n",
       "      <td>54.48</td>\n",
       "    </tr>\n",
       "    <tr>\n",
       "      <th>3</th>\n",
       "      <td>1.55</td>\n",
       "      <td>55.84</td>\n",
       "    </tr>\n",
       "    <tr>\n",
       "      <th>4</th>\n",
       "      <td>1.57</td>\n",
       "      <td>57.20</td>\n",
       "    </tr>\n",
       "  </tbody>\n",
       "</table>\n",
       "</div>"
      ],
      "text/plain": [
       "   Height  Weight\n",
       "0    1.47   52.21\n",
       "1    1.50   53.12\n",
       "2    1.52   54.48\n",
       "3    1.55   55.84\n",
       "4    1.57   57.20"
      ]
     },
     "execution_count": 69,
     "metadata": {},
     "output_type": "execute_result"
    }
   ],
   "source": [
    "df = pd.read_csv('height_weight.csv')\n",
    "\n",
    "df.head() #displaying the first 5 rows of the dataset"
   ]
  },
  {
   "cell_type": "markdown",
   "metadata": {},
   "source": [
    "Okay, nice. The data has been loaded. But, we need to separate the feature and the target, since they are together. Also, for implementations with pytorch built in functions we need to convert the data into tensors, which is possile through convertion to numpy array.\n",
    "\n",
    "So, lets do that."
   ]
  },
  {
   "cell_type": "code",
   "execution_count": 71,
   "metadata": {},
   "outputs": [],
   "source": [
    "height = df['Height'].to_numpy(dtype = 'float32')\n",
    "weight = df['Weight'].to_numpy(dtype = 'float32')"
   ]
  },
  {
   "cell_type": "markdown",
   "metadata": {},
   "source": [
    "We have converted the data into numpy array. Lets check it."
   ]
  },
  {
   "cell_type": "code",
   "execution_count": 72,
   "metadata": {},
   "outputs": [
    {
     "data": {
      "text/plain": [
       "array([1.47, 1.5 , 1.52, 1.55, 1.57, 1.6 , 1.63, 1.65, 1.68, 1.7 , 1.73,\n",
       "       1.75, 1.78, 1.8 , 1.83], dtype=float32)"
      ]
     },
     "execution_count": 72,
     "metadata": {},
     "output_type": "execute_result"
    }
   ],
   "source": [
    "height"
   ]
  },
  {
   "cell_type": "code",
   "execution_count": 73,
   "metadata": {},
   "outputs": [
    {
     "data": {
      "text/plain": [
       "array([52.21, 53.12, 54.48, 55.84, 57.2 , 58.57, 59.93, 61.29, 63.11,\n",
       "       64.47, 66.28, 68.1 , 69.92, 72.19, 74.46], dtype=float32)"
      ]
     },
     "execution_count": 73,
     "metadata": {},
     "output_type": "execute_result"
    }
   ],
   "source": [
    "weight"
   ]
  },
  {
   "cell_type": "markdown",
   "metadata": {},
   "source": [
    "One more thing we have to do is to the expand the dimensions of the height and weight."
   ]
  },
  {
   "cell_type": "code",
   "execution_count": 74,
   "metadata": {},
   "outputs": [],
   "source": [
    "height = np.expand_dims(height , axis = 1)\n",
    "weight = np.expand_dims(weight , axis = 1)"
   ]
  },
  {
   "cell_type": "markdown",
   "metadata": {},
   "source": [
    "Yes. We have done it correctly.\n",
    "\n",
    "Next up, lets convert the numpy array to torch tensors using the method <code>torch.from_numpy()</code>"
   ]
  },
  {
   "cell_type": "code",
   "execution_count": 75,
   "metadata": {},
   "outputs": [],
   "source": [
    "inputs = torch.from_numpy(height)  ##convertion of height to tensors\n",
    "\n",
    "targets = torch.from_numpy(weight)  ##convertion of weight to tensors"
   ]
  },
  {
   "cell_type": "markdown",
   "metadata": {},
   "source": [
    "Lets check if the convertion is okay!"
   ]
  },
  {
   "cell_type": "code",
   "execution_count": 76,
   "metadata": {},
   "outputs": [
    {
     "data": {
      "text/plain": [
       "tensor([[1.4700],\n",
       "        [1.5000],\n",
       "        [1.5200],\n",
       "        [1.5500],\n",
       "        [1.5700],\n",
       "        [1.6000],\n",
       "        [1.6300],\n",
       "        [1.6500],\n",
       "        [1.6800],\n",
       "        [1.7000],\n",
       "        [1.7300],\n",
       "        [1.7500],\n",
       "        [1.7800],\n",
       "        [1.8000],\n",
       "        [1.8300]])"
      ]
     },
     "execution_count": 76,
     "metadata": {},
     "output_type": "execute_result"
    }
   ],
   "source": [
    "inputs"
   ]
  },
  {
   "cell_type": "code",
   "execution_count": 77,
   "metadata": {},
   "outputs": [
    {
     "data": {
      "text/plain": [
       "tensor([[52.2100],\n",
       "        [53.1200],\n",
       "        [54.4800],\n",
       "        [55.8400],\n",
       "        [57.2000],\n",
       "        [58.5700],\n",
       "        [59.9300],\n",
       "        [61.2900],\n",
       "        [63.1100],\n",
       "        [64.4700],\n",
       "        [66.2800],\n",
       "        [68.1000],\n",
       "        [69.9200],\n",
       "        [72.1900],\n",
       "        [74.4600]])"
      ]
     },
     "execution_count": 77,
     "metadata": {},
     "output_type": "execute_result"
    }
   ],
   "source": [
    "targets"
   ]
  },
  {
   "cell_type": "markdown",
   "metadata": {},
   "source": [
    "Yes! We have done it correctly."
   ]
  },
  {
   "cell_type": "markdown",
   "metadata": {},
   "source": [
    "Now moving on!"
   ]
  },
  {
   "cell_type": "markdown",
   "metadata": {},
   "source": [
    "In general for the creation of a linear model we set up the weights and biases, as you have seen in my previous notebook.\n",
    "\n",
    "But, we can skip that part and let Pytorch do that, by utilizing its <code>nn.Linear</code> module.\n",
    "\n",
    "So, lets do that only."
   ]
  },
  {
   "cell_type": "code",
   "execution_count": 78,
   "metadata": {},
   "outputs": [
    {
     "name": "stdout",
     "output_type": "stream",
     "text": [
      "Parameter containing:\n",
      "tensor([[-0.7696]], requires_grad=True)\n",
      "Parameter containing:\n",
      "tensor([-0.1375], requires_grad=True)\n",
      "<bound method Module.parameters of Linear(in_features=1, out_features=1, bias=True)>\n"
     ]
    }
   ],
   "source": [
    "linear_model = nn.Linear(1 , 1)\n",
    "\n",
    "print(linear_model.weight)\n",
    "print(linear_model.bias)\n",
    "print(linear_model.parameters)"
   ]
  },
  {
   "cell_type": "markdown",
   "metadata": {},
   "source": [
    "Boom! The model is set.\n",
    "\n",
    "Now what do we do?\n",
    "\n",
    "We set the loss function. Now, in our previous notebook, we created a manual loss function, but in here we are going to partake in a Pytorch's inbuilt mean squared error loss function through <code>mse_loss</code> (imported earlier from <code>torch.nn.functional</code>"
   ]
  },
  {
   "cell_type": "code",
   "execution_count": 81,
   "metadata": {},
   "outputs": [],
   "source": [
    "loss_func = mse_loss"
   ]
  },
  {
   "cell_type": "code",
   "execution_count": 93,
   "metadata": {},
   "outputs": [
    {
     "data": {
      "text/plain": [
       "2838.9990234375"
      ]
     },
     "execution_count": 93,
     "metadata": {},
     "output_type": "execute_result"
    }
   ],
   "source": [
    "loss_func(linear_model(inputs[0]) , targets[0]).item()"
   ]
  },
  {
   "cell_type": "markdown",
   "metadata": {},
   "source": [
    "Done! What next? Well we need to update our weights right? \n",
    "How do we do that? Well using an optimizer. Here we are going to utilize Stochastic Gradient Descent optimizer from Pytorch package."
   ]
  },
  {
   "cell_type": "code",
   "execution_count": 82,
   "metadata": {},
   "outputs": [],
   "source": [
    "optim = SGD(linear_model.parameters() , lr = 1e-5)"
   ]
  },
  {
   "cell_type": "markdown",
   "metadata": {},
   "source": [
    "Now lets pull it all together, but, before that we are going to set up our training based on Pytorch Datasets and load it via Pytorch Dataloader. So, lets do that."
   ]
  },
  {
   "cell_type": "code",
   "execution_count": 83,
   "metadata": {},
   "outputs": [
    {
     "data": {
      "text/plain": [
       "(tensor([[1.4700],\n",
       "         [1.5000],\n",
       "         [1.5200]]),\n",
       " tensor([[52.2100],\n",
       "         [53.1200],\n",
       "         [54.4800]]))"
      ]
     },
     "execution_count": 83,
     "metadata": {},
     "output_type": "execute_result"
    }
   ],
   "source": [
    "dataset = TensorDataset(inputs , targets)\n",
    "\n",
    "dataset[0:3]  #for checking"
   ]
  },
  {
   "cell_type": "markdown",
   "metadata": {},
   "source": [
    "Yep! The dataset is instantiated.\n",
    "\n",
    "Now lets set the datalaoder."
   ]
  },
  {
   "cell_type": "code",
   "execution_count": 84,
   "metadata": {},
   "outputs": [],
   "source": [
    "dataloader = DataLoader(dataset , batch_size = 5 , shuffle = True)"
   ]
  },
  {
   "cell_type": "code",
   "execution_count": 85,
   "metadata": {},
   "outputs": [
    {
     "name": "stdout",
     "output_type": "stream",
     "text": [
      "tensor([[1.7300],\n",
      "        [1.4700],\n",
      "        [1.8300],\n",
      "        [1.7000],\n",
      "        [1.5700]])\n",
      "tensor([[1.6300],\n",
      "        [1.5500],\n",
      "        [1.7500],\n",
      "        [1.6800],\n",
      "        [1.7800]])\n",
      "tensor([[1.5000],\n",
      "        [1.6000],\n",
      "        [1.6500],\n",
      "        [1.5200],\n",
      "        [1.8000]])\n"
     ]
    }
   ],
   "source": [
    "for x, y in dataloader:\n",
    "    print(x)"
   ]
  },
  {
   "cell_type": "markdown",
   "metadata": {},
   "source": [
    "Done!\n",
    "\n",
    "Now, lets move on and train our model through a custom function."
   ]
  },
  {
   "cell_type": "code",
   "execution_count": 103,
   "metadata": {},
   "outputs": [],
   "source": [
    "def fit(num_epochs , linear_model , dataloader , loss_func , optim):\n",
    "    \n",
    "    for epoch in range(num_epochs):\n",
    "        \n",
    "        for x, y in dataloader:\n",
    "            \n",
    "            ##making predictions\n",
    "            y_pred = linear_model(x)\n",
    "            \n",
    "            ##checking the loss\n",
    "            loss = loss_func(y_pred , y)\n",
    "            \n",
    "            ##backpropagating\n",
    "            loss.backward()\n",
    "            \n",
    "            ##optimizing the parameters\n",
    "            optim.step()\n",
    "            \n",
    "            ##resetting the optimizer\n",
    "            optim.zero_grad()\n",
    "            \n",
    "        if (epoch + 1) % 5 == 0:\n",
    "            print('Epoch [{} / {}] , Loss : {:.2f}'.format(epoch + 1 , num_epochs , loss.item()))"
   ]
  },
  {
   "cell_type": "markdown",
   "metadata": {},
   "source": [
    "Lets train our model by calling the fit function."
   ]
  },
  {
   "cell_type": "code",
   "execution_count": 104,
   "metadata": {},
   "outputs": [
    {
     "name": "stdout",
     "output_type": "stream",
     "text": [
      "Epoch [5 / 100] , Loss : 3351.71\n",
      "Epoch [10 / 100] , Loss : 4158.58\n",
      "Epoch [15 / 100] , Loss : 4302.25\n",
      "Epoch [20 / 100] , Loss : 4037.56\n",
      "Epoch [25 / 100] , Loss : 3684.95\n",
      "Epoch [30 / 100] , Loss : 4015.62\n",
      "Epoch [35 / 100] , Loss : 3542.15\n",
      "Epoch [40 / 100] , Loss : 3366.64\n",
      "Epoch [45 / 100] , Loss : 3419.83\n",
      "Epoch [50 / 100] , Loss : 4264.02\n",
      "Epoch [55 / 100] , Loss : 3259.37\n",
      "Epoch [60 / 100] , Loss : 3693.41\n",
      "Epoch [65 / 100] , Loss : 4178.17\n",
      "Epoch [70 / 100] , Loss : 3731.56\n",
      "Epoch [75 / 100] , Loss : 4116.34\n",
      "Epoch [80 / 100] , Loss : 3821.48\n",
      "Epoch [85 / 100] , Loss : 4049.86\n",
      "Epoch [90 / 100] , Loss : 3095.14\n",
      "Epoch [95 / 100] , Loss : 3889.48\n",
      "Epoch [100 / 100] , Loss : 3594.03\n"
     ]
    }
   ],
   "source": [
    "fit(100 , linear_model , dataloader , loss_func , optim)"
   ]
  },
  {
   "cell_type": "markdown",
   "metadata": {},
   "source": [
    "And Boom Done!!"
   ]
  }
 ],
 "metadata": {
  "kernelspec": {
   "display_name": "pytorch_env",
   "language": "python",
   "name": "pytorch_env"
  },
  "language_info": {
   "codemirror_mode": {
    "name": "ipython",
    "version": 3
   },
   "file_extension": ".py",
   "mimetype": "text/x-python",
   "name": "python",
   "nbconvert_exporter": "python",
   "pygments_lexer": "ipython3",
   "version": "3.8.5"
  }
 },
 "nbformat": 4,
 "nbformat_minor": 4
}
